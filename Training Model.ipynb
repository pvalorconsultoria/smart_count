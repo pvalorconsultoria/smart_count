{
 "cells": [
  {
   "cell_type": "code",
   "execution_count": 85,
   "id": "838708e6",
   "metadata": {},
   "outputs": [],
   "source": [
    "import os\n",
    "import cv2\n",
    "import numpy as np\n",
    "\n",
    "dir_path = './dataset/'\n",
    "\n",
    "def load_dataset():\n",
    "    # Load images and labels\n",
    "    images = []\n",
    "    labels = []\n",
    "\n",
    "    shape = (62, 108)\n",
    "    \n",
    "    for filename in os.listdir(os.path.join(dir_path)):\n",
    "        img = cv2.imread(os.path.join(dir_path, filename), cv2.IMREAD_GRAYSCALE)\n",
    "        if img is not None and img.shape == shape:\n",
    "            images.append(img)\n",
    "            \n",
    "            if 'false' in filename:\n",
    "                labels.append(0)\n",
    "            else:\n",
    "                labels.append(1)\n",
    "    \n",
    "    X = np.array(images)\n",
    "    y = np.array(labels)\n",
    "    \n",
    "    X = X[..., np.newaxis]\n",
    "    \n",
    "    return X, y"
   ]
  },
  {
   "cell_type": "code",
   "execution_count": 86,
   "id": "490b51f8",
   "metadata": {},
   "outputs": [
    {
     "data": {
      "text/plain": [
       "((282, 62, 108, 1), (282,))"
      ]
     },
     "execution_count": 86,
     "metadata": {},
     "output_type": "execute_result"
    }
   ],
   "source": [
    "X, y = load_dataset()\n",
    "\n",
    "X.shape, y.shape"
   ]
  },
  {
   "cell_type": "code",
   "execution_count": 87,
   "id": "f769fddc",
   "metadata": {},
   "outputs": [],
   "source": [
    "from sklearn.model_selection import train_test_split"
   ]
  },
  {
   "cell_type": "code",
   "execution_count": 88,
   "id": "79d0dc17",
   "metadata": {},
   "outputs": [],
   "source": [
    "X_train, X_test, y_train, y_test = train_test_split(X, y, test_size=0.2, random_state=42)"
   ]
  },
  {
   "cell_type": "code",
   "execution_count": 89,
   "id": "96547ce5",
   "metadata": {},
   "outputs": [
    {
     "name": "stdout",
     "output_type": "stream",
     "text": [
      "Epoch 1/15\n",
      "8/8 [==============================] - 5s 332ms/step - loss: 80.7538 - accuracy: 0.5422 - val_loss: 2.6565 - val_accuracy: 0.3684\n",
      "Epoch 2/15\n",
      "8/8 [==============================] - 2s 272ms/step - loss: 1.8081 - accuracy: 0.5689 - val_loss: 0.6062 - val_accuracy: 0.7193\n",
      "Epoch 3/15\n",
      "8/8 [==============================] - 2s 283ms/step - loss: 0.5969 - accuracy: 0.6711 - val_loss: 0.5545 - val_accuracy: 0.6667\n",
      "Epoch 4/15\n",
      "8/8 [==============================] - 2s 279ms/step - loss: 0.5264 - accuracy: 0.6267 - val_loss: 0.5434 - val_accuracy: 0.6667\n",
      "Epoch 5/15\n",
      "8/8 [==============================] - 2s 277ms/step - loss: 0.6700 - accuracy: 0.6889 - val_loss: 0.7254 - val_accuracy: 0.6491\n",
      "Epoch 6/15\n",
      "8/8 [==============================] - 2s 265ms/step - loss: 0.3656 - accuracy: 0.8311 - val_loss: 0.3319 - val_accuracy: 0.8070\n",
      "Epoch 7/15\n",
      "8/8 [==============================] - 2s 271ms/step - loss: 0.2009 - accuracy: 0.9378 - val_loss: 0.2452 - val_accuracy: 0.9123\n",
      "Epoch 8/15\n",
      "8/8 [==============================] - 2s 279ms/step - loss: 0.1724 - accuracy: 0.9244 - val_loss: 0.1516 - val_accuracy: 0.9298\n",
      "Epoch 9/15\n",
      "8/8 [==============================] - 2s 274ms/step - loss: 0.0931 - accuracy: 0.9600 - val_loss: 0.1638 - val_accuracy: 0.9123\n",
      "Epoch 10/15\n",
      "8/8 [==============================] - 2s 270ms/step - loss: 0.0543 - accuracy: 0.9911 - val_loss: 0.1761 - val_accuracy: 0.9298\n",
      "Epoch 11/15\n",
      "8/8 [==============================] - 2s 274ms/step - loss: 0.1024 - accuracy: 0.9689 - val_loss: 0.4457 - val_accuracy: 0.7895\n",
      "Epoch 12/15\n",
      "8/8 [==============================] - 2s 275ms/step - loss: 0.2369 - accuracy: 0.9111 - val_loss: 0.3387 - val_accuracy: 0.8772\n",
      "Epoch 13/15\n",
      "8/8 [==============================] - 2s 269ms/step - loss: 0.0893 - accuracy: 0.9644 - val_loss: 0.2506 - val_accuracy: 0.9123\n",
      "Epoch 14/15\n",
      "8/8 [==============================] - 2s 269ms/step - loss: 0.1010 - accuracy: 0.9822 - val_loss: 0.1908 - val_accuracy: 0.9298\n",
      "Epoch 15/15\n",
      "8/8 [==============================] - 2s 265ms/step - loss: 0.0536 - accuracy: 0.9822 - val_loss: 0.2013 - val_accuracy: 0.9474\n"
     ]
    },
    {
     "data": {
      "text/plain": [
       "<keras.callbacks.History at 0x165d3816d10>"
      ]
     },
     "execution_count": 89,
     "metadata": {},
     "output_type": "execute_result"
    }
   ],
   "source": [
    "from keras.models import Sequential\n",
    "from keras.layers import Conv2D, MaxPooling2D, Flatten, Dense, GlobalMaxPooling2D\n",
    "from keras.datasets import mnist\n",
    "from keras.utils import to_categorical\n",
    "\n",
    "# Create a CNN model\n",
    "model = Sequential()\n",
    "\n",
    "# Add a convolution layer\n",
    "model.add(Conv2D(64, kernel_size=3, activation='relu', input_shape=(62, 108, 1)))\n",
    "\n",
    "# Add a max pooling layer\n",
    "model.add(MaxPooling2D(pool_size=(2, 2)))\n",
    "\n",
    "# Add another convolution layer\n",
    "model.add(Conv2D(64, kernel_size=3, activation='relu'))\n",
    "\n",
    "# Add another max pooling layer\n",
    "model.add(MaxPooling2D(pool_size=(2, 2)))\n",
    "\n",
    "# Flatten the tensor output from the previous layer\n",
    "model.add(Flatten())\n",
    "# Replace the Flatten layer with GlobalMaxPooling2D\n",
    "# model.add(GlobalMaxPooling2D())\n",
    "\n",
    "# Add a dense layer\n",
    "model.add(Dense(64, activation='relu'))\n",
    "\n",
    "# Add output layer\n",
    "model.add(Dense(1, activation='sigmoid'))\n",
    "\n",
    "# Compile the model\n",
    "model.compile(optimizer='adam', loss='binary_crossentropy', metrics=['accuracy'])\n",
    "\n",
    "# Train the model\n",
    "model.fit(X_train, y_train, validation_data=(X_test, y_test), epochs=15)"
   ]
  },
  {
   "cell_type": "code",
   "execution_count": 90,
   "id": "af9517e0",
   "metadata": {},
   "outputs": [
    {
     "name": "stdout",
     "output_type": "stream",
     "text": [
      "Model: \"sequential_11\"\n",
      "_________________________________________________________________\n",
      " Layer (type)                Output Shape              Param #   \n",
      "=================================================================\n",
      " conv2d_22 (Conv2D)          (None, 60, 106, 64)       640       \n",
      "                                                                 \n",
      " max_pooling2d_22 (MaxPoolin  (None, 30, 53, 64)       0         \n",
      " g2D)                                                            \n",
      "                                                                 \n",
      " conv2d_23 (Conv2D)          (None, 28, 51, 64)        36928     \n",
      "                                                                 \n",
      " max_pooling2d_23 (MaxPoolin  (None, 14, 25, 64)       0         \n",
      " g2D)                                                            \n",
      "                                                                 \n",
      " flatten_7 (Flatten)         (None, 22400)             0         \n",
      "                                                                 \n",
      " dense_20 (Dense)            (None, 64)                1433664   \n",
      "                                                                 \n",
      " dense_21 (Dense)            (None, 1)                 65        \n",
      "                                                                 \n",
      "=================================================================\n",
      "Total params: 1,471,297\n",
      "Trainable params: 1,471,297\n",
      "Non-trainable params: 0\n",
      "_________________________________________________________________\n"
     ]
    }
   ],
   "source": [
    "model.summary()"
   ]
  },
  {
   "cell_type": "code",
   "execution_count": 91,
   "id": "3ea59c5f",
   "metadata": {},
   "outputs": [
    {
     "name": "stdout",
     "output_type": "stream",
     "text": [
      "2/2 - 0s - loss: 0.2013 - accuracy: 0.9474 - 164ms/epoch - 82ms/step\n"
     ]
    }
   ],
   "source": [
    "test_loss, test_acc = model.evaluate(X_test, y_test, verbose=2)"
   ]
  },
  {
   "cell_type": "code",
   "execution_count": 92,
   "id": "9cd750c2",
   "metadata": {},
   "outputs": [
    {
     "name": "stdout",
     "output_type": "stream",
     "text": [
      "2/2 [==============================] - 0s 64ms/step\n"
     ]
    },
    {
     "data": {
      "text/plain": [
       "(57, 1)"
      ]
     },
     "execution_count": 92,
     "metadata": {},
     "output_type": "execute_result"
    }
   ],
   "source": [
    "y_pred = model.predict(X_test)\n",
    "y_pred.shape"
   ]
  },
  {
   "cell_type": "code",
   "execution_count": 93,
   "id": "f214250e",
   "metadata": {},
   "outputs": [
    {
     "data": {
      "image/png": "[encoded data removed]",
      "text/plain": [
       "<Figure size 640x480 with 1 Axes>"
      ]
     },
     "metadata": {},
     "output_type": "display_data"
    },
    {
     "name": "stdout",
     "output_type": "stream",
     "text": [
      "1 [1.]\n"
     ]
    }
   ],
   "source": [
    "import matplotlib.pyplot as plt\n",
    "\n",
    "i = 13\n",
    "\n",
    "plt.imshow(X_test[i])\n",
    "plt.show()\n",
    "\n",
    "print(y_test[i], y_pred[i])"
   ]
  },
  {
   "cell_type": "code",
   "execution_count": 94,
   "id": "16afd638",
   "metadata": {},
   "outputs": [],
   "source": [
    "model.save('models/model_v3.h5')"
   ]
  },
  {
   "cell_type": "code",
   "execution_count": 95,
   "id": "b64a9dda",
   "metadata": {},
   "outputs": [],
   "source": [
    "from tensorflow.keras.models import load_model\n",
    "\n",
    "loaded_model = load_model('models/model_v3.h5')"
   ]
  },
  {
   "cell_type": "code",
   "execution_count": null,
   "id": "839db342",
   "metadata": {},
   "outputs": [],
   "source": []
  }
 ],
 "metadata": {
  "kernelspec": {
   "display_name": "Python 3 (ipykernel)",
   "language": "python",
   "name": "python3"
  },
  "language_info": {
   "codemirror_mode": {
    "name": "ipython",
    "version": 3
   },
   "file_extension": ".py",
   "mimetype": "text/x-python",
   "name": "python",
   "nbconvert_exporter": "python",
   "pygments_lexer": "ipython3",
   "version": "3.11.3"
  }
 },
 "nbformat": 4,
 "nbformat_minor": 5
}
