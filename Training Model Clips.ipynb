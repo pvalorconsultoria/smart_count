{
 "cells": [
  {
   "cell_type": "code",
   "execution_count": 455,
   "id": "838708e6",
   "metadata": {},
   "outputs": [],
   "source": [
    "import os\n",
    "import cv2\n",
    "import numpy as np\n",
    "\n",
    "dir_path = './datasets/CLIPS_1'\n",
    "\n",
    "def load_dataset():\n",
    "    # Load images and labels\n",
    "    images = []\n",
    "    labels = []\n",
    "\n",
    "    shape = (76, 76)\n",
    "    \n",
    "    for filename in os.listdir(os.path.join(dir_path)):\n",
    "        img = cv2.imread(os.path.join(dir_path, filename), cv2.IMREAD_GRAYSCALE)\n",
    "        if img is not None and img.shape == shape:\n",
    "            images.append(img)\n",
    "            \n",
    "            if 'false' in filename:\n",
    "                labels.append(0)\n",
    "            else:\n",
    "                labels.append(1)\n",
    "    \n",
    "    X = np.array(images)\n",
    "    y = np.array(labels)\n",
    "    \n",
    "    X = X[..., np.newaxis]\n",
    "    \n",
    "    return X, y"
   ]
  },
  {
   "cell_type": "code",
   "execution_count": 456,
   "id": "490b51f8",
   "metadata": {},
   "outputs": [
    {
     "data": {
      "text/plain": [
       "((93, 76, 76, 1), (93,))"
      ]
     },
     "execution_count": 456,
     "metadata": {},
     "output_type": "execute_result"
    }
   ],
   "source": [
    "X, y = load_dataset()\n",
    "\n",
    "X.shape, y.shape"
   ]
  },
  {
   "cell_type": "code",
   "execution_count": 457,
   "id": "f769fddc",
   "metadata": {},
   "outputs": [],
   "source": [
    "from sklearn.model_selection import train_test_split"
   ]
  },
  {
   "cell_type": "code",
   "execution_count": 458,
   "id": "79d0dc17",
   "metadata": {},
   "outputs": [],
   "source": [
    "X_train, X_test, y_train, y_test = train_test_split(X, y, test_size=0.2, random_state=42)"
   ]
  },
  {
   "cell_type": "code",
   "execution_count": 459,
   "id": "96547ce5",
   "metadata": {},
   "outputs": [
    {
     "name": "stdout",
     "output_type": "stream",
     "text": [
      "Epoch 1/15\n",
      "3/3 [==============================] - 3s 411ms/step - loss: 63.3983 - accuracy: 0.4459 - val_loss: 4.7215 - val_accuracy: 0.7895\n",
      "Epoch 2/15\n",
      "3/3 [==============================] - 1s 227ms/step - loss: 9.3208 - accuracy: 0.5676 - val_loss: 0.8592 - val_accuracy: 0.7895\n",
      "Epoch 3/15\n",
      "3/3 [==============================] - 1s 232ms/step - loss: 1.6711 - accuracy: 0.5000 - val_loss: 1.3576 - val_accuracy: 0.2632\n",
      "Epoch 4/15\n",
      "3/3 [==============================] - 1s 243ms/step - loss: 0.6333 - accuracy: 0.6622 - val_loss: 0.2281 - val_accuracy: 0.8947\n",
      "Epoch 5/15\n",
      "3/3 [==============================] - 1s 241ms/step - loss: 0.2635 - accuracy: 0.8784 - val_loss: 0.3004 - val_accuracy: 0.7895\n",
      "Epoch 6/15\n",
      "3/3 [==============================] - 1s 236ms/step - loss: 0.2141 - accuracy: 0.9054 - val_loss: 0.3758 - val_accuracy: 0.8421\n",
      "Epoch 7/15\n",
      "3/3 [==============================] - 1s 227ms/step - loss: 0.1094 - accuracy: 0.9730 - val_loss: 0.2270 - val_accuracy: 0.8947\n",
      "Epoch 8/15\n",
      "3/3 [==============================] - 1s 228ms/step - loss: 0.0969 - accuracy: 0.9730 - val_loss: 0.2300 - val_accuracy: 0.9474\n",
      "Epoch 9/15\n",
      "3/3 [==============================] - 1s 234ms/step - loss: 0.0523 - accuracy: 0.9865 - val_loss: 0.2412 - val_accuracy: 0.9474\n",
      "Epoch 10/15\n",
      "3/3 [==============================] - 1s 227ms/step - loss: 0.0678 - accuracy: 0.9865 - val_loss: 0.1055 - val_accuracy: 0.9474\n",
      "Epoch 11/15\n",
      "3/3 [==============================] - 1s 229ms/step - loss: 0.0584 - accuracy: 0.9730 - val_loss: 0.2009 - val_accuracy: 0.9474\n",
      "Epoch 12/15\n",
      "3/3 [==============================] - 1s 231ms/step - loss: 0.0377 - accuracy: 0.9730 - val_loss: 0.2453 - val_accuracy: 0.8947\n",
      "Epoch 13/15\n",
      "3/3 [==============================] - 1s 229ms/step - loss: 0.0263 - accuracy: 0.9865 - val_loss: 0.1031 - val_accuracy: 0.9474\n",
      "Epoch 14/15\n",
      "3/3 [==============================] - 1s 229ms/step - loss: 0.0496 - accuracy: 0.9865 - val_loss: 0.0464 - val_accuracy: 1.0000\n",
      "Epoch 15/15\n",
      "3/3 [==============================] - 1s 232ms/step - loss: 0.0388 - accuracy: 0.9865 - val_loss: 0.0412 - val_accuracy: 1.0000\n"
     ]
    },
    {
     "data": {
      "text/plain": [
       "<keras.callbacks.History at 0x17f932b6c10>"
      ]
     },
     "execution_count": 459,
     "metadata": {},
     "output_type": "execute_result"
    }
   ],
   "source": [
    "from keras.models import Sequential\n",
    "from keras.layers import Conv2D, MaxPooling2D, Flatten, Dense, GlobalMaxPooling2D\n",
    "from keras.datasets import mnist\n",
    "from keras.utils import to_categorical\n",
    "\n",
    "# Create a CNN model\n",
    "model = Sequential()\n",
    "\n",
    "# Add a convolution layer\n",
    "model.add(Conv2D(64, kernel_size=3, activation='relu', input_shape=(76, 76, 1)))\n",
    "\n",
    "# Add a max pooling layer\n",
    "model.add(MaxPooling2D(pool_size=(2, 2)))\n",
    "\n",
    "# Add another convolution layer\n",
    "model.add(Conv2D(64, kernel_size=3, activation='relu'))\n",
    "\n",
    "# Add another max pooling layer\n",
    "model.add(MaxPooling2D(pool_size=(2, 2)))\n",
    "\n",
    "# Flatten the tensor output from the previous layer\n",
    "model.add(Flatten())\n",
    "# Replace the Flatten layer with GlobalMaxPooling2D\n",
    "# model.add(GlobalMaxPooling2D())\n",
    "\n",
    "# Add a dense layer\n",
    "model.add(Dense(64, activation='relu'))\n",
    "\n",
    "# Add output layer\n",
    "model.add(Dense(1, activation='sigmoid'))\n",
    "\n",
    "# Compile the model\n",
    "model.compile(optimizer='adam', loss='binary_crossentropy', metrics=['accuracy'])\n",
    "\n",
    "# Train the model\n",
    "model.fit(X_train, y_train, validation_data=(X_test, y_test), epochs=15)"
   ]
  },
  {
   "cell_type": "code",
   "execution_count": 460,
   "id": "af9517e0",
   "metadata": {},
   "outputs": [
    {
     "name": "stdout",
     "output_type": "stream",
     "text": [
      "Model: \"sequential_43\"\n",
      "_________________________________________________________________\n",
      " Layer (type)                Output Shape              Param #   \n",
      "=================================================================\n",
      " conv2d_86 (Conv2D)          (None, 74, 74, 64)        640       \n",
      "                                                                 \n",
      " max_pooling2d_86 (MaxPoolin  (None, 37, 37, 64)       0         \n",
      " g2D)                                                            \n",
      "                                                                 \n",
      " conv2d_87 (Conv2D)          (None, 35, 35, 64)        36928     \n",
      "                                                                 \n",
      " max_pooling2d_87 (MaxPoolin  (None, 17, 17, 64)       0         \n",
      " g2D)                                                            \n",
      "                                                                 \n",
      " flatten_43 (Flatten)        (None, 18496)             0         \n",
      "                                                                 \n",
      " dense_86 (Dense)            (None, 64)                1183808   \n",
      "                                                                 \n",
      " dense_87 (Dense)            (None, 1)                 65        \n",
      "                                                                 \n",
      "=================================================================\n",
      "Total params: 1,221,441\n",
      "Trainable params: 1,221,441\n",
      "Non-trainable params: 0\n",
      "_________________________________________________________________\n"
     ]
    }
   ],
   "source": [
    "model.summary()"
   ]
  },
  {
   "cell_type": "code",
   "execution_count": 461,
   "id": "3ea59c5f",
   "metadata": {},
   "outputs": [
    {
     "name": "stdout",
     "output_type": "stream",
     "text": [
      "1/1 - 0s - loss: 0.0412 - accuracy: 1.0000 - 71ms/epoch - 71ms/step\n"
     ]
    }
   ],
   "source": [
    "test_loss, test_acc = model.evaluate(X_test, y_test, verbose=2)"
   ]
  },
  {
   "cell_type": "code",
   "execution_count": 462,
   "id": "9cd750c2",
   "metadata": {},
   "outputs": [
    {
     "name": "stdout",
     "output_type": "stream",
     "text": [
      "1/1 [==============================] - 0s 180ms/step\n"
     ]
    },
    {
     "data": {
      "text/plain": [
       "(19, 1)"
      ]
     },
     "execution_count": 462,
     "metadata": {},
     "output_type": "execute_result"
    }
   ],
   "source": [
    "y_pred = model.predict(X_test)\n",
    "y_pred.shape"
   ]
  },
  {
   "cell_type": "code",
   "execution_count": 463,
   "id": "f214250e",
   "metadata": {},
   "outputs": [
    {
     "data": {
      "image/png": "[encoded data removed]",
      "text/plain": [
       "<Figure size 640x480 with 1 Axes>"
      ]
     },
     "metadata": {},
     "output_type": "display_data"
    },
    {
     "name": "stdout",
     "output_type": "stream",
     "text": [
      "1 [0.56498986]\n"
     ]
    }
   ],
   "source": [
    "import matplotlib.pyplot as plt\n",
    "\n",
    "i = 1\n",
    "\n",
    "plt.imshow(X_test[i])\n",
    "plt.show()\n",
    "\n",
    "print(y_test[i], y_pred[i])"
   ]
  },
  {
   "cell_type": "code",
   "execution_count": 464,
   "id": "16afd638",
   "metadata": {},
   "outputs": [],
   "source": [
    "model.save('models/model_clips_v1.h5')"
   ]
  },
  {
   "cell_type": "code",
   "execution_count": 465,
   "id": "b64a9dda",
   "metadata": {},
   "outputs": [],
   "source": [
    "from tensorflow.keras.models import load_model\n",
    "\n",
    "loaded_model = load_model('models/model_clips_v1.h5')"
   ]
  },
  {
   "cell_type": "code",
   "execution_count": null,
   "id": "839db342",
   "metadata": {},
   "outputs": [],
   "source": []
  }
 ],
 "metadata": {
  "kernelspec": {
   "display_name": "Python 3 (ipykernel)",
   "language": "python",
   "name": "python3"
  },
  "language_info": {
   "codemirror_mode": {
    "name": "ipython",
    "version": 3
   },
   "file_extension": ".py",
   "mimetype": "text/x-python",
   "name": "python",
   "nbconvert_exporter": "python",
   "pygments_lexer": "ipython3",
   "version": "3.11.3"
  }
 },
 "nbformat": 4,
 "nbformat_minor": 5
}
