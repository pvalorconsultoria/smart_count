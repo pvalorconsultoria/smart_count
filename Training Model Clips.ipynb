{
 "cells": [
  {
   "cell_type": "code",
   "execution_count": 257,
   "id": "838708e6",
   "metadata": {},
   "outputs": [],
   "source": [
    "import os\n",
    "import cv2\n",
    "import numpy as np\n",
    "\n",
    "dir_path = './datasets/CLIPS_1'\n",
    "\n",
    "def load_dataset():\n",
    "    # Load images and labels\n",
    "    images = []\n",
    "    labels = []\n",
    "\n",
    "    shape = (76, 76)\n",
    "    \n",
    "    for filename in os.listdir(os.path.join(dir_path)):\n",
    "        img = cv2.imread(os.path.join(dir_path, filename), cv2.IMREAD_GRAYSCALE)\n",
    "        if img is not None and img.shape == shape:\n",
    "            images.append(img)\n",
    "            \n",
    "            if 'false' in filename:\n",
    "                labels.append(0)\n",
    "            else:\n",
    "                labels.append(1)\n",
    "    \n",
    "    X = np.array(images)\n",
    "    y = np.array(labels)\n",
    "    \n",
    "    X = X[..., np.newaxis]\n",
    "    \n",
    "    return X, y"
   ]
  },
  {
   "cell_type": "code",
   "execution_count": 258,
   "id": "490b51f8",
   "metadata": {},
   "outputs": [
    {
     "data": {
      "text/plain": [
       "((164, 76, 76, 1), (164,))"
      ]
     },
     "execution_count": 258,
     "metadata": {},
     "output_type": "execute_result"
    }
   ],
   "source": [
    "X, y = load_dataset()\n",
    "\n",
    "X.shape, y.shape"
   ]
  },
  {
   "cell_type": "code",
   "execution_count": 259,
   "id": "f769fddc",
   "metadata": {},
   "outputs": [],
   "source": [
    "from sklearn.model_selection import train_test_split"
   ]
  },
  {
   "cell_type": "code",
   "execution_count": 260,
   "id": "79d0dc17",
   "metadata": {},
   "outputs": [],
   "source": [
    "X_train, X_test, y_train, y_test = train_test_split(X, y, test_size=0.2, random_state=42)"
   ]
  },
  {
   "cell_type": "code",
   "execution_count": 261,
   "id": "96547ce5",
   "metadata": {},
   "outputs": [
    {
     "name": "stdout",
     "output_type": "stream",
     "text": [
      "Epoch 1/15\n",
      "5/5 [==============================] - 3s 300ms/step - loss: 24.2336 - accuracy: 0.5573 - val_loss: 9.0077 - val_accuracy: 0.4545\n",
      "Epoch 2/15\n",
      "5/5 [==============================] - 1s 231ms/step - loss: 3.8241 - accuracy: 0.4962 - val_loss: 0.6072 - val_accuracy: 0.6364\n",
      "Epoch 3/15\n",
      "5/5 [==============================] - 1s 227ms/step - loss: 0.5228 - accuracy: 0.7710 - val_loss: 0.9503 - val_accuracy: 0.5455\n",
      "Epoch 4/15\n",
      "5/5 [==============================] - 1s 222ms/step - loss: 0.6188 - accuracy: 0.7252 - val_loss: 0.4488 - val_accuracy: 0.7273\n",
      "Epoch 5/15\n",
      "5/5 [==============================] - 1s 218ms/step - loss: 0.2896 - accuracy: 0.8779 - val_loss: 0.7094 - val_accuracy: 0.6061\n",
      "Epoch 6/15\n",
      "5/5 [==============================] - 1s 225ms/step - loss: 0.2620 - accuracy: 0.8931 - val_loss: 0.4071 - val_accuracy: 0.8182\n",
      "Epoch 7/15\n",
      "5/5 [==============================] - 1s 223ms/step - loss: 0.0839 - accuracy: 0.9847 - val_loss: 0.3601 - val_accuracy: 0.8485\n",
      "Epoch 8/15\n",
      "5/5 [==============================] - 1s 224ms/step - loss: 0.0255 - accuracy: 1.0000 - val_loss: 0.6300 - val_accuracy: 0.8788\n",
      "Epoch 9/15\n",
      "5/5 [==============================] - 1s 227ms/step - loss: 0.0203 - accuracy: 1.0000 - val_loss: 0.4430 - val_accuracy: 0.8485\n",
      "Epoch 10/15\n",
      "5/5 [==============================] - 1s 219ms/step - loss: 0.0138 - accuracy: 1.0000 - val_loss: 0.7010 - val_accuracy: 0.8485\n",
      "Epoch 11/15\n",
      "5/5 [==============================] - 1s 218ms/step - loss: 0.0037 - accuracy: 1.0000 - val_loss: 0.4507 - val_accuracy: 0.8485\n",
      "Epoch 12/15\n",
      "5/5 [==============================] - 1s 222ms/step - loss: 0.0082 - accuracy: 1.0000 - val_loss: 0.5476 - val_accuracy: 0.8788\n",
      "Epoch 13/15\n",
      "5/5 [==============================] - 1s 227ms/step - loss: 2.5850e-04 - accuracy: 1.0000 - val_loss: 0.7049 - val_accuracy: 0.8788\n",
      "Epoch 14/15\n",
      "5/5 [==============================] - 1s 221ms/step - loss: 1.8294e-04 - accuracy: 1.0000 - val_loss: 0.6715 - val_accuracy: 0.9091\n",
      "Epoch 15/15\n",
      "5/5 [==============================] - 1s 227ms/step - loss: 6.7416e-05 - accuracy: 1.0000 - val_loss: 0.8889 - val_accuracy: 0.8485\n"
     ]
    },
    {
     "data": {
      "text/plain": [
       "<keras.callbacks.History at 0x17f3d2ea290>"
      ]
     },
     "execution_count": 261,
     "metadata": {},
     "output_type": "execute_result"
    }
   ],
   "source": [
    "from keras.models import Sequential\n",
    "from keras.layers import Conv2D, MaxPooling2D, Flatten, Dense, GlobalMaxPooling2D\n",
    "from keras.datasets import mnist\n",
    "from keras.utils import to_categorical\n",
    "\n",
    "# Create a CNN model\n",
    "model = Sequential()\n",
    "\n",
    "# Add a convolution layer\n",
    "model.add(Conv2D(64, kernel_size=3, activation='relu', input_shape=(76, 76, 1)))\n",
    "\n",
    "# Add a max pooling layer\n",
    "model.add(MaxPooling2D(pool_size=(2, 2)))\n",
    "\n",
    "# Add another convolution layer\n",
    "model.add(Conv2D(64, kernel_size=3, activation='relu'))\n",
    "\n",
    "# Add another max pooling layer\n",
    "model.add(MaxPooling2D(pool_size=(2, 2)))\n",
    "\n",
    "# Flatten the tensor output from the previous layer\n",
    "model.add(Flatten())\n",
    "# Replace the Flatten layer with GlobalMaxPooling2D\n",
    "# model.add(GlobalMaxPooling2D())\n",
    "\n",
    "# Add a dense layer\n",
    "model.add(Dense(64, activation='relu'))\n",
    "\n",
    "# Add output layer\n",
    "model.add(Dense(1, activation='sigmoid'))\n",
    "\n",
    "# Compile the model\n",
    "model.compile(optimizer='adam', loss='binary_crossentropy', metrics=['accuracy'])\n",
    "\n",
    "# Train the model\n",
    "model.fit(X_train, y_train, validation_data=(X_test, y_test), epochs=15)"
   ]
  },
  {
   "cell_type": "code",
   "execution_count": 262,
   "id": "af9517e0",
   "metadata": {},
   "outputs": [
    {
     "name": "stdout",
     "output_type": "stream",
     "text": [
      "Model: \"sequential_25\"\n",
      "_________________________________________________________________\n",
      " Layer (type)                Output Shape              Param #   \n",
      "=================================================================\n",
      " conv2d_50 (Conv2D)          (None, 74, 74, 64)        640       \n",
      "                                                                 \n",
      " max_pooling2d_50 (MaxPoolin  (None, 37, 37, 64)       0         \n",
      " g2D)                                                            \n",
      "                                                                 \n",
      " conv2d_51 (Conv2D)          (None, 35, 35, 64)        36928     \n",
      "                                                                 \n",
      " max_pooling2d_51 (MaxPoolin  (None, 17, 17, 64)       0         \n",
      " g2D)                                                            \n",
      "                                                                 \n",
      " flatten_25 (Flatten)        (None, 18496)             0         \n",
      "                                                                 \n",
      " dense_50 (Dense)            (None, 64)                1183808   \n",
      "                                                                 \n",
      " dense_51 (Dense)            (None, 1)                 65        \n",
      "                                                                 \n",
      "=================================================================\n",
      "Total params: 1,221,441\n",
      "Trainable params: 1,221,441\n",
      "Non-trainable params: 0\n",
      "_________________________________________________________________\n"
     ]
    }
   ],
   "source": [
    "model.summary()"
   ]
  },
  {
   "cell_type": "code",
   "execution_count": 263,
   "id": "3ea59c5f",
   "metadata": {},
   "outputs": [
    {
     "name": "stdout",
     "output_type": "stream",
     "text": [
      "2/2 - 0s - loss: 0.8889 - accuracy: 0.8485 - 88ms/epoch - 44ms/step\n"
     ]
    }
   ],
   "source": [
    "test_loss, test_acc = model.evaluate(X_test, y_test, verbose=2)"
   ]
  },
  {
   "cell_type": "code",
   "execution_count": 264,
   "id": "9cd750c2",
   "metadata": {},
   "outputs": [
    {
     "name": "stdout",
     "output_type": "stream",
     "text": [
      "2/2 [==============================] - 0s 20ms/step\n"
     ]
    },
    {
     "data": {
      "text/plain": [
       "(33, 1)"
      ]
     },
     "execution_count": 264,
     "metadata": {},
     "output_type": "execute_result"
    }
   ],
   "source": [
    "y_pred = model.predict(X_test)\n",
    "y_pred.shape"
   ]
  },
  {
   "cell_type": "code",
   "execution_count": 265,
   "id": "f214250e",
   "metadata": {},
   "outputs": [
    {
     "data": {
      "image/png": "[encoded data removed]",
      "text/plain": [
       "<Figure size 640x480 with 1 Axes>"
      ]
     },
     "metadata": {},
     "output_type": "display_data"
    },
    {
     "name": "stdout",
     "output_type": "stream",
     "text": [
      "0 [1.9674558e-06]\n"
     ]
    }
   ],
   "source": [
    "import matplotlib.pyplot as plt\n",
    "\n",
    "i = 1\n",
    "\n",
    "plt.imshow(X_test[i])\n",
    "plt.show()\n",
    "\n",
    "print(y_test[i], y_pred[i])"
   ]
  },
  {
   "cell_type": "code",
   "execution_count": 266,
   "id": "16afd638",
   "metadata": {},
   "outputs": [],
   "source": [
    "model.save('models/model_clips_v1.h5')"
   ]
  },
  {
   "cell_type": "code",
   "execution_count": 267,
   "id": "b64a9dda",
   "metadata": {},
   "outputs": [],
   "source": [
    "from tensorflow.keras.models import load_model\n",
    "\n",
    "loaded_model = load_model('models/model_clips_v1.h5')"
   ]
  },
  {
   "cell_type": "code",
   "execution_count": null,
   "id": "839db342",
   "metadata": {},
   "outputs": [],
   "source": []
  }
 ],
 "metadata": {
  "kernelspec": {
   "display_name": "Python 3 (ipykernel)",
   "language": "python",
   "name": "python3"
  },
  "language_info": {
   "codemirror_mode": {
    "name": "ipython",
    "version": 3
   },
   "file_extension": ".py",
   "mimetype": "text/x-python",
   "name": "python",
   "nbconvert_exporter": "python",
   "pygments_lexer": "ipython3",
   "version": "3.11.3"
  }
 },
 "nbformat": 4,
 "nbformat_minor": 5
}
