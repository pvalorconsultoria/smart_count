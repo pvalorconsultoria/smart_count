{
 "cells": [
  {
   "cell_type": "code",
   "execution_count": 44,
   "id": "838708e6",
   "metadata": {},
   "outputs": [],
   "source": [
    "import tensorflow as tf\n",
    "import numpy as np\n",
    "\n",
    "dir_path = './datasets/MP_1'\n",
    "\n",
    "def load_dataset():\n",
    "    # Load images and labels\n",
    "    images = []\n",
    "    labels = []\n",
    "\n",
    "    shape = (62, 108, 3)\n",
    "    \n",
    "    for filename in os.listdir(os.path.join(dir_path)):\n",
    "        img = cv2.imread(os.path.join(dir_path, filename), cv2.COLOR_BGR2RGB)\n",
    "        if img is not None and img.shape == shape:\n",
    "            images.append(img)\n",
    "            \n",
    "            if 'false' in filename:\n",
    "                labels.append(0)\n",
    "            else:\n",
    "                labels.append(1)\n",
    "    \n",
    "    X = np.array(images)\n",
    "    y = np.array(labels)\n",
    "    \n",
    "    X = X[..., np.newaxis]\n",
    "    \n",
    "    return X, y\n",
    "\n",
    "# Define different augmentations\n",
    "def flip_left_right(image):\n",
    "    return tf.image.random_flip_left_right(image)\n",
    "\n",
    "def flip_up_down(image):\n",
    "    return tf.image.random_flip_up_down(image)\n",
    "\n",
    "def brightness(image):\n",
    "    return tf.image.random_brightness(image, max_delta=0.1)\n",
    "\n",
    "def contrast(image):\n",
    "    return tf.image.random_contrast(image, lower=0.1, upper=0.2)\n",
    "\n",
    "def saturation(image):\n",
    "    return tf.image.random_saturation(image, lower=0.5, upper=1.5)\n",
    "\n",
    "def hue(image):\n",
    "    return tf.image.random_hue(image, max_delta=0.2)\n",
    "\n",
    "def central_crop(image):\n",
    "    return tf.image.central_crop(image, central_fraction=0.8)\n",
    "\n",
    "# List of augmentation functions\n",
    "augmentations = [flip_left_right, flip_up_down, brightness, contrast, saturation, hue]\n",
    "\n",
    "def random_augment(image):\n",
    "    # Randomly select and apply an augmentation function\n",
    "    augment = np.random.choice(augmentations)\n",
    "    return augment(image)\n",
    "\n",
    "X, y = load_dataset()\n",
    "\n",
    "# Convert to TensorFlow Dataset\n",
    "dataset = tf.data.Dataset.from_tensor_slices((X, y))\n",
    "\n",
    "# Create augmented datasets and concatenate to the original dataset\n",
    "combined_dataset = dataset\n",
    "for _ in range(2):  # Increase to desired multiple, 2 for triple size\n",
    "    augmented_dataset = dataset.map(lambda x, y: (random_augment(x), y))\n",
    "    combined_dataset = combined_dataset.concatenate(augmented_dataset)"
   ]
  },
  {
   "cell_type": "code",
   "execution_count": 47,
   "id": "24deaf92",
   "metadata": {},
   "outputs": [
    {
     "data": {
      "text/plain": [
       "((1014, 62, 108, 3, 1), (1014,))"
      ]
     },
     "execution_count": 47,
     "metadata": {},
     "output_type": "execute_result"
    }
   ],
   "source": [
    "# Convert the combined_dataset back to X, y\n",
    "X_list = []\n",
    "y_list = []\n",
    "\n",
    "# Iterate over the combined_dataset\n",
    "for images, labels in combined_dataset:\n",
    "    X_list.append(images.numpy())\n",
    "    y_list.append(labels.numpy())\n",
    "\n",
    "# Convert lists to numpy arrays\n",
    "X = np.array(X_list)\n",
    "y = np.array(y_list)\n",
    "\n",
    "X.shape, y.shape"
   ]
  },
  {
   "cell_type": "code",
   "execution_count": 48,
   "id": "f769fddc",
   "metadata": {},
   "outputs": [],
   "source": [
    "from sklearn.model_selection import train_test_split"
   ]
  },
  {
   "cell_type": "code",
   "execution_count": 49,
   "id": "79d0dc17",
   "metadata": {},
   "outputs": [],
   "source": [
    "X_train, X_test, y_train, y_test = train_test_split(X, y, test_size=0.2, random_state=42)"
   ]
  },
  {
   "cell_type": "code",
   "execution_count": 50,
   "id": "96547ce5",
   "metadata": {},
   "outputs": [
    {
     "name": "stdout",
     "output_type": "stream",
     "text": [
      "Epoch 1/15\n",
      "26/26 [==============================] - 12s 348ms/step - loss: 38.6707 - accuracy: 0.6264 - val_loss: 0.4027 - val_accuracy: 0.8768\n",
      "Epoch 2/15\n",
      "26/26 [==============================] - 9s 340ms/step - loss: 0.2301 - accuracy: 0.9248 - val_loss: 0.0988 - val_accuracy: 0.9606\n",
      "Epoch 3/15\n",
      "26/26 [==============================] - 9s 339ms/step - loss: 0.0388 - accuracy: 0.9914 - val_loss: 0.0439 - val_accuracy: 0.9803\n",
      "Epoch 4/15\n",
      "26/26 [==============================] - 8s 315ms/step - loss: 0.0328 - accuracy: 0.9877 - val_loss: 2.4050 - val_accuracy: 0.6502\n",
      "Epoch 5/15\n",
      "26/26 [==============================] - 8s 308ms/step - loss: 0.2545 - accuracy: 0.9236 - val_loss: 0.2402 - val_accuracy: 0.8966\n",
      "Epoch 6/15\n",
      "26/26 [==============================] - 8s 308ms/step - loss: 0.4377 - accuracy: 0.8964 - val_loss: 0.1503 - val_accuracy: 0.9557\n",
      "Epoch 7/15\n",
      "26/26 [==============================] - 8s 307ms/step - loss: 0.3772 - accuracy: 0.9026 - val_loss: 0.2264 - val_accuracy: 0.9261\n",
      "Epoch 8/15\n",
      "26/26 [==============================] - 9s 338ms/step - loss: 0.0836 - accuracy: 0.9679 - val_loss: 0.0476 - val_accuracy: 0.9754\n",
      "Epoch 9/15\n",
      "26/26 [==============================] - 9s 340ms/step - loss: 0.0213 - accuracy: 0.9926 - val_loss: 0.1014 - val_accuracy: 0.9655\n",
      "Epoch 10/15\n",
      "26/26 [==============================] - 9s 343ms/step - loss: 0.0232 - accuracy: 0.9938 - val_loss: 0.0142 - val_accuracy: 0.9901\n",
      "Epoch 11/15\n",
      "26/26 [==============================] - 9s 338ms/step - loss: 0.0079 - accuracy: 0.9988 - val_loss: 0.0111 - val_accuracy: 0.9951\n",
      "Epoch 12/15\n",
      "26/26 [==============================] - 9s 351ms/step - loss: 0.0061 - accuracy: 0.9988 - val_loss: 0.0065 - val_accuracy: 1.0000\n",
      "Epoch 13/15\n",
      "26/26 [==============================] - 9s 340ms/step - loss: 0.0040 - accuracy: 0.9988 - val_loss: 0.0039 - val_accuracy: 1.0000\n",
      "Epoch 14/15\n",
      "26/26 [==============================] - 9s 344ms/step - loss: 0.0021 - accuracy: 1.0000 - val_loss: 0.0048 - val_accuracy: 1.0000\n",
      "Epoch 15/15\n",
      "26/26 [==============================] - 9s 342ms/step - loss: 0.0016 - accuracy: 1.0000 - val_loss: 0.0039 - val_accuracy: 1.0000\n"
     ]
    },
    {
     "data": {
      "text/plain": [
       "<keras.callbacks.History at 0x278860c3e10>"
      ]
     },
     "execution_count": 50,
     "metadata": {},
     "output_type": "execute_result"
    }
   ],
   "source": [
    "from keras.models import Sequential\n",
    "from keras.layers import Conv2D, MaxPooling2D, Flatten, Dense, GlobalMaxPooling2D\n",
    "from keras.datasets import mnist\n",
    "from keras.utils import to_categorical\n",
    "\n",
    "# Create a CNN model\n",
    "model = Sequential()\n",
    "\n",
    "# Add a convolution layer\n",
    "model.add(Conv2D(64, kernel_size=3, activation='relu', input_shape=(62, 108, 3)))\n",
    "\n",
    "# Add a max pooling layer\n",
    "model.add(MaxPooling2D(pool_size=(2, 2)))\n",
    "\n",
    "# Add another convolution layer\n",
    "model.add(Conv2D(64, kernel_size=3, activation='relu'))\n",
    "\n",
    "# Add another max pooling layer\n",
    "model.add(MaxPooling2D(pool_size=(2, 2)))\n",
    "\n",
    "# Flatten the tensor output from the previous layer\n",
    "model.add(Flatten())\n",
    "# Replace the Flatten layer with GlobalMaxPooling2D\n",
    "#model.add(GlobalMaxPooling2D())\n",
    "\n",
    "# Add a dense layer\n",
    "model.add(Dense(64, activation='relu'))\n",
    "\n",
    "# Add output layer\n",
    "model.add(Dense(1, activation='sigmoid'))\n",
    "\n",
    "# Compile the model\n",
    "model.compile(optimizer='adam', loss='binary_crossentropy', metrics=['accuracy'])\n",
    "\n",
    "# Train the model\n",
    "model.fit(X_train, y_train, validation_data=(X_test, y_test), epochs=10)"
   ]
  },
  {
   "cell_type": "code",
   "execution_count": 36,
   "id": "af9517e0",
   "metadata": {},
   "outputs": [
    {
     "name": "stdout",
     "output_type": "stream",
     "text": [
      "Model: \"sequential_3\"\n",
      "_________________________________________________________________\n",
      " Layer (type)                Output Shape              Param #   \n",
      "=================================================================\n",
      " conv2d_6 (Conv2D)           (None, 60, 106, 64)       1792      \n",
      "                                                                 \n",
      " max_pooling2d_6 (MaxPooling  (None, 30, 53, 64)       0         \n",
      " 2D)                                                             \n",
      "                                                                 \n",
      " conv2d_7 (Conv2D)           (None, 28, 51, 64)        36928     \n",
      "                                                                 \n",
      " max_pooling2d_7 (MaxPooling  (None, 14, 25, 64)       0         \n",
      " 2D)                                                             \n",
      "                                                                 \n",
      " flatten (Flatten)           (None, 22400)             0         \n",
      "                                                                 \n",
      " dense_6 (Dense)             (None, 64)                1433664   \n",
      "                                                                 \n",
      " dense_7 (Dense)             (None, 1)                 65        \n",
      "                                                                 \n",
      "=================================================================\n",
      "Total params: 1,472,449\n",
      "Trainable params: 1,472,449\n",
      "Non-trainable params: 0\n",
      "_________________________________________________________________\n"
     ]
    }
   ],
   "source": [
    "model.summary()"
   ]
  },
  {
   "cell_type": "code",
   "execution_count": 51,
   "id": "3ea59c5f",
   "metadata": {},
   "outputs": [
    {
     "name": "stdout",
     "output_type": "stream",
     "text": [
      "7/7 - 0s - loss: 0.0039 - accuracy: 1.0000 - 454ms/epoch - 65ms/step\n"
     ]
    }
   ],
   "source": [
    "test_loss, test_acc = model.evaluate(X_test, y_test, verbose=2)"
   ]
  },
  {
   "cell_type": "code",
   "execution_count": 52,
   "id": "9cd750c2",
   "metadata": {},
   "outputs": [
    {
     "name": "stdout",
     "output_type": "stream",
     "text": [
      "7/7 [==============================] - 1s 64ms/step\n"
     ]
    },
    {
     "data": {
      "text/plain": [
       "(203, 1)"
      ]
     },
     "execution_count": 52,
     "metadata": {},
     "output_type": "execute_result"
    }
   ],
   "source": [
    "y_pred = model.predict(X_test)\n",
    "y_pred.shape"
   ]
  },
  {
   "cell_type": "code",
   "execution_count": 53,
   "id": "f214250e",
   "metadata": {},
   "outputs": [
    {
     "data": {
      "image/png": "[encoded data removed]",
      "text/plain": [
       "<Figure size 640x480 with 1 Axes>"
      ]
     },
     "metadata": {},
     "output_type": "display_data"
    },
    {
     "name": "stdout",
     "output_type": "stream",
     "text": [
      "0 [4.176424e-05]\n"
     ]
    }
   ],
   "source": [
    "import matplotlib.pyplot as plt\n",
    "\n",
    "i = 13\n",
    "\n",
    "plt.imshow(X_test[i][:,:,:,0])\n",
    "plt.show()\n",
    "\n",
    "print(y_test[i], y_pred[i])"
   ]
  },
  {
   "cell_type": "code",
   "execution_count": 40,
   "id": "16afd638",
   "metadata": {},
   "outputs": [],
   "source": [
    "model.save('models/model_v5.h5')"
   ]
  },
  {
   "cell_type": "code",
   "execution_count": 41,
   "id": "b64a9dda",
   "metadata": {},
   "outputs": [],
   "source": [
    "from tensorflow.keras.models import load_model\n",
    "\n",
    "loaded_model = load_model('models/model_v5.h5')"
   ]
  },
  {
   "cell_type": "code",
   "execution_count": null,
   "id": "839db342",
   "metadata": {},
   "outputs": [],
   "source": []
  }
 ],
 "metadata": {
  "kernelspec": {
   "display_name": "Python 3 (ipykernel)",
   "language": "python",
   "name": "python3"
  },
  "language_info": {
   "codemirror_mode": {
    "name": "ipython",
    "version": 3
   },
   "file_extension": ".py",
   "mimetype": "text/x-python",
   "name": "python",
   "nbconvert_exporter": "python",
   "pygments_lexer": "ipython3",
   "version": "3.11.3"
  }
 },
 "nbformat": 4,
 "nbformat_minor": 5
}
