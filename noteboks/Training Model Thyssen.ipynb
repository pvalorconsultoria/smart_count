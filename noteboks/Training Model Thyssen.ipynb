{
 "cells": [
  {
   "cell_type": "code",
   "execution_count": 52,
   "id": "838708e6",
   "metadata": {},
   "outputs": [],
   "source": [
    "import os\n",
    "import cv2\n",
    "import numpy as np\n",
    "\n",
    "dir_path = './datasets/TK_1'\n",
    "\n",
    "def load_dataset():\n",
    "    # Load images and labels\n",
    "    images = []\n",
    "    labels = []\n",
    "\n",
    "    shape = (116, 116)\n",
    "    \n",
    "    for filename in os.listdir(os.path.join(dir_path)):\n",
    "        img = cv2.imread(os.path.join(dir_path, filename), cv2.IMREAD_GRAYSCALE)\n",
    "        if img is not None and img.shape == shape:\n",
    "            images.append(img)\n",
    "            \n",
    "            if 'false' in filename:\n",
    "                labels.append(0)\n",
    "            else:\n",
    "                labels.append(1)\n",
    "    \n",
    "    X = np.array(images)\n",
    "    y = np.array(labels)\n",
    "    \n",
    "    X = X[..., np.newaxis]\n",
    "    \n",
    "    return X, y"
   ]
  },
  {
   "cell_type": "code",
   "execution_count": 53,
   "id": "490b51f8",
   "metadata": {},
   "outputs": [
    {
     "data": {
      "text/plain": [
       "((117, 116, 116, 1), (117,))"
      ]
     },
     "execution_count": 53,
     "metadata": {},
     "output_type": "execute_result"
    }
   ],
   "source": [
    "X, y = load_dataset()\n",
    "\n",
    "X.shape, y.shape"
   ]
  },
  {
   "cell_type": "code",
   "execution_count": 54,
   "id": "f769fddc",
   "metadata": {},
   "outputs": [],
   "source": [
    "from sklearn.model_selection import train_test_split"
   ]
  },
  {
   "cell_type": "code",
   "execution_count": 55,
   "id": "79d0dc17",
   "metadata": {},
   "outputs": [],
   "source": [
    "X_train, X_test, y_train, y_test = train_test_split(X, y, test_size=0.2, random_state=42)"
   ]
  },
  {
   "cell_type": "code",
   "execution_count": 56,
   "id": "96547ce5",
   "metadata": {},
   "outputs": [
    {
     "name": "stdout",
     "output_type": "stream",
     "text": [
      "Epoch 1/15\n",
      "3/3 [==============================] - 5s 1s/step - loss: 102.4630 - accuracy: 0.4624 - val_loss: 172.6687 - val_accuracy: 0.5417\n",
      "Epoch 2/15\n",
      "3/3 [==============================] - 2s 760ms/step - loss: 77.6092 - accuracy: 0.5699 - val_loss: 38.7562 - val_accuracy: 0.4583\n",
      "Epoch 3/15\n",
      "3/3 [==============================] - 2s 783ms/step - loss: 18.8393 - accuracy: 0.4624 - val_loss: 1.8310 - val_accuracy: 0.7500\n",
      "Epoch 4/15\n",
      "3/3 [==============================] - 3s 947ms/step - loss: 1.2943 - accuracy: 0.7957 - val_loss: 0.9955 - val_accuracy: 0.7500\n",
      "Epoch 5/15\n",
      "3/3 [==============================] - 3s 953ms/step - loss: 0.1977 - accuracy: 0.8817 - val_loss: 0.6452 - val_accuracy: 0.9167\n",
      "Epoch 6/15\n",
      "3/3 [==============================] - 2s 789ms/step - loss: 0.0921 - accuracy: 0.9677 - val_loss: 0.5820 - val_accuracy: 0.8750\n",
      "Epoch 7/15\n",
      "3/3 [==============================] - 2s 769ms/step - loss: 0.0157 - accuracy: 1.0000 - val_loss: 0.7365 - val_accuracy: 0.8750\n",
      "Epoch 8/15\n",
      "3/3 [==============================] - 2s 792ms/step - loss: 0.0074 - accuracy: 1.0000 - val_loss: 0.0579 - val_accuracy: 0.9583\n",
      "Epoch 9/15\n",
      "3/3 [==============================] - 2s 788ms/step - loss: 0.0777 - accuracy: 0.9785 - val_loss: 1.8467 - val_accuracy: 0.8333\n",
      "Epoch 10/15\n",
      "3/3 [==============================] - 2s 749ms/step - loss: 0.1014 - accuracy: 0.9785 - val_loss: 1.7331 - val_accuracy: 0.8333\n",
      "Epoch 11/15\n",
      "3/3 [==============================] - 2s 760ms/step - loss: 0.0124 - accuracy: 1.0000 - val_loss: 1.6932 - val_accuracy: 0.8333\n",
      "Epoch 12/15\n",
      "3/3 [==============================] - 2s 750ms/step - loss: 0.0781 - accuracy: 0.9785 - val_loss: 2.0978 - val_accuracy: 0.8333\n",
      "Epoch 13/15\n",
      "3/3 [==============================] - 2s 752ms/step - loss: 0.0409 - accuracy: 1.0000 - val_loss: 1.7167 - val_accuracy: 0.8333\n",
      "Epoch 14/15\n",
      "3/3 [==============================] - 2s 737ms/step - loss: 0.0034 - accuracy: 1.0000 - val_loss: 0.6836 - val_accuracy: 0.8750\n",
      "Epoch 15/15\n",
      "3/3 [==============================] - 2s 752ms/step - loss: 0.0117 - accuracy: 0.9892 - val_loss: 0.7323 - val_accuracy: 0.8750\n"
     ]
    },
    {
     "data": {
      "text/plain": [
       "<keras.callbacks.History at 0x21841242950>"
      ]
     },
     "execution_count": 56,
     "metadata": {},
     "output_type": "execute_result"
    }
   ],
   "source": [
    "from keras.models import Sequential\n",
    "from keras.layers import Conv2D, MaxPooling2D, Flatten, Dense, GlobalMaxPooling2D\n",
    "from keras.datasets import mnist\n",
    "from keras.utils import to_categorical\n",
    "\n",
    "# Create a CNN model\n",
    "model = Sequential()\n",
    "\n",
    "# Add a convolution layer\n",
    "model.add(Conv2D(64, kernel_size=3, activation='relu', input_shape=(116, 116, 1)))\n",
    "\n",
    "# Add a max pooling layer\n",
    "model.add(MaxPooling2D(pool_size=(2, 2)))\n",
    "\n",
    "# Add another convolution layer\n",
    "model.add(Conv2D(64, kernel_size=3, activation='relu'))\n",
    "\n",
    "# Add another max pooling layer\n",
    "model.add(MaxPooling2D(pool_size=(2, 2)))\n",
    "\n",
    "# Flatten the tensor output from the previous layer\n",
    "model.add(Flatten())\n",
    "# Replace the Flatten layer with GlobalMaxPooling2D\n",
    "# model.add(GlobalMaxPooling2D())\n",
    "\n",
    "# Add a dense layer\n",
    "model.add(Dense(64, activation='relu'))\n",
    "\n",
    "# Add output layer\n",
    "model.add(Dense(1, activation='sigmoid'))\n",
    "\n",
    "# Compile the model\n",
    "model.compile(optimizer='adam', loss='binary_crossentropy', metrics=['accuracy'])\n",
    "\n",
    "# Train the model\n",
    "model.fit(X_train, y_train, validation_data=(X_test, y_test), epochs=15)"
   ]
  },
  {
   "cell_type": "code",
   "execution_count": 57,
   "id": "af9517e0",
   "metadata": {},
   "outputs": [
    {
     "name": "stdout",
     "output_type": "stream",
     "text": [
      "Model: \"sequential_5\"\n",
      "_________________________________________________________________\n",
      " Layer (type)                Output Shape              Param #   \n",
      "=================================================================\n",
      " conv2d_10 (Conv2D)          (None, 114, 114, 64)      640       \n",
      "                                                                 \n",
      " max_pooling2d_10 (MaxPoolin  (None, 57, 57, 64)       0         \n",
      " g2D)                                                            \n",
      "                                                                 \n",
      " conv2d_11 (Conv2D)          (None, 55, 55, 64)        36928     \n",
      "                                                                 \n",
      " max_pooling2d_11 (MaxPoolin  (None, 27, 27, 64)       0         \n",
      " g2D)                                                            \n",
      "                                                                 \n",
      " flatten_5 (Flatten)         (None, 46656)             0         \n",
      "                                                                 \n",
      " dense_10 (Dense)            (None, 64)                2986048   \n",
      "                                                                 \n",
      " dense_11 (Dense)            (None, 1)                 65        \n",
      "                                                                 \n",
      "=================================================================\n",
      "Total params: 3,023,681\n",
      "Trainable params: 3,023,681\n",
      "Non-trainable params: 0\n",
      "_________________________________________________________________\n"
     ]
    }
   ],
   "source": [
    "model.summary()"
   ]
  },
  {
   "cell_type": "code",
   "execution_count": 58,
   "id": "3ea59c5f",
   "metadata": {},
   "outputs": [
    {
     "name": "stdout",
     "output_type": "stream",
     "text": [
      "1/1 - 0s - loss: 0.7323 - accuracy: 0.8750 - 184ms/epoch - 184ms/step\n"
     ]
    }
   ],
   "source": [
    "test_loss, test_acc = model.evaluate(X_test, y_test, verbose=2)"
   ]
  },
  {
   "cell_type": "code",
   "execution_count": 59,
   "id": "9cd750c2",
   "metadata": {},
   "outputs": [
    {
     "name": "stdout",
     "output_type": "stream",
     "text": [
      "WARNING:tensorflow:5 out of the last 5 calls to <function Model.make_predict_function.<locals>.predict_function at 0x000002184ABC0C20> triggered tf.function retracing. Tracing is expensive and the excessive number of tracings could be due to (1) creating @tf.function repeatedly in a loop, (2) passing tensors with different shapes, (3) passing Python objects instead of tensors. For (1), please define your @tf.function outside of the loop. For (2), @tf.function has reduce_retracing=True option that can avoid unnecessary retracing. For (3), please refer to https://www.tensorflow.org/guide/function#controlling_retracing and https://www.tensorflow.org/api_docs/python/tf/function for  more details.\n",
      "1/1 [==============================] - 0s 328ms/step\n"
     ]
    },
    {
     "data": {
      "text/plain": [
       "(24, 1)"
      ]
     },
     "execution_count": 59,
     "metadata": {},
     "output_type": "execute_result"
    }
   ],
   "source": [
    "y_pred = model.predict(X_test)\n",
    "y_pred.shape"
   ]
  },
  {
   "cell_type": "code",
   "execution_count": 60,
   "id": "f214250e",
   "metadata": {},
   "outputs": [
    {
     "data": {
      "image/png": "[encoded data removed]",
      "text/plain": [
       "<Figure size 640x480 with 1 Axes>"
      ]
     },
     "metadata": {},
     "output_type": "display_data"
    },
    {
     "name": "stdout",
     "output_type": "stream",
     "text": [
      "0 [2.321718e-16]\n"
     ]
    }
   ],
   "source": [
    "import matplotlib.pyplot as plt\n",
    "\n",
    "i = 1\n",
    "\n",
    "plt.imshow(X_test[i])\n",
    "plt.show()\n",
    "\n",
    "print(y_test[i], y_pred[i])"
   ]
  },
  {
   "cell_type": "code",
   "execution_count": 61,
   "id": "16afd638",
   "metadata": {},
   "outputs": [],
   "source": [
    "model.save('models/model_tk_v1.h5')"
   ]
  },
  {
   "cell_type": "code",
   "execution_count": 62,
   "id": "b64a9dda",
   "metadata": {},
   "outputs": [],
   "source": [
    "from tensorflow.keras.models import load_model\n",
    "\n",
    "loaded_model = load_model('models/model_tk_v1.h5')"
   ]
  },
  {
   "cell_type": "code",
   "execution_count": null,
   "id": "839db342",
   "metadata": {},
   "outputs": [],
   "source": []
  }
 ],
 "metadata": {
  "kernelspec": {
   "display_name": "Python 3 (ipykernel)",
   "language": "python",
   "name": "python3"
  },
  "language_info": {
   "codemirror_mode": {
    "name": "ipython",
    "version": 3
   },
   "file_extension": ".py",
   "mimetype": "text/x-python",
   "name": "python",
   "nbconvert_exporter": "python",
   "pygments_lexer": "ipython3",
   "version": "3.11.3"
  }
 },
 "nbformat": 4,
 "nbformat_minor": 5
}
