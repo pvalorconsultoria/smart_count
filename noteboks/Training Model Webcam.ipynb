{
 "cells": [
  {
   "cell_type": "code",
   "execution_count": 188,
   "id": "838708e6",
   "metadata": {},
   "outputs": [],
   "source": [
    "import tensorflow as tf\n",
    "import numpy as np\n",
    "import os\n",
    "import cv2\n",
    "\n",
    "dir_path = './datasets/WEBCAM_1'\n",
    "\n",
    "def load_dataset():\n",
    "    # Load images and labels\n",
    "    images = []\n",
    "    labels = []\n",
    "\n",
    "    shape = (76, 76, 3)\n",
    "    \n",
    "    for filename in os.listdir(os.path.join(dir_path)):\n",
    "        img = cv2.imread(os.path.join(dir_path, filename), cv2.IMREAD_COLOR)\n",
    "        img = cv2.cvtColor(img, cv2.COLOR_BGR2RGB)\n",
    "        if img is not None and img.shape == shape:\n",
    "            images.append(img)\n",
    "            \n",
    "            if 'false' in filename:\n",
    "                labels.append(0)\n",
    "            else:\n",
    "                labels.append(1)\n",
    "    \n",
    "    X = np.array(images)\n",
    "    y = np.array(labels)\n",
    "        \n",
    "    return X, y\n",
    "\n",
    "# Define different augmentations\n",
    "def flip_left_right(image):\n",
    "    return tf.image.random_flip_left_right(image)\n",
    "\n",
    "def flip_up_down(image):\n",
    "    return tf.image.random_flip_up_down(image)\n",
    "\n",
    "def brightness(image):\n",
    "    return tf.image.random_brightness(image, max_delta=0.1)\n",
    "\n",
    "def contrast(image):\n",
    "    return tf.image.random_contrast(image, lower=0.1, upper=0.2)\n",
    "\n",
    "def saturation(image):\n",
    "    return tf.image.random_saturation(image, lower=0.5, upper=1.5)\n",
    "\n",
    "def hue(image):\n",
    "    return tf.image.random_hue(image, max_delta=0.2)\n",
    "\n",
    "def central_crop(image):\n",
    "    return tf.image.central_crop(image, central_fraction=0.8)\n",
    "\n",
    "# List of augmentation functions\n",
    "augmentations = [flip_left_right, flip_up_down, brightness, contrast, saturation, hue]\n",
    "\n",
    "def random_augment(image):\n",
    "    # Randomly select and apply an augmentation function\n",
    "    augment = np.random.choice(augmentations)\n",
    "    return augment(image)\n",
    "\n",
    "X, y = load_dataset()\n",
    "\n",
    "# Convert to TensorFlow Dataset\n",
    "dataset = tf.data.Dataset.from_tensor_slices((X, y))\n",
    "\n",
    "# Create augmented datasets and concatenate to the original dataset\n",
    "combined_dataset = dataset\n",
    "for _ in range(5):  # Increase to desired multiple, 2 for triple size\n",
    "    augmented_dataset = dataset.map(lambda x, y: (random_augment(x), y))\n",
    "    combined_dataset = combined_dataset.concatenate(augmented_dataset)"
   ]
  },
  {
   "cell_type": "code",
   "execution_count": 189,
   "id": "324ac7d7",
   "metadata": {},
   "outputs": [
    {
     "data": {
      "text/plain": [
       "((1866, 76, 76, 3, 1), (1866,))"
      ]
     },
     "execution_count": 189,
     "metadata": {},
     "output_type": "execute_result"
    }
   ],
   "source": [
    "# Convert the combined_dataset back to X, y\n",
    "X_list = []\n",
    "y_list = []\n",
    "\n",
    "# Iterate over the combined_dataset\n",
    "for images, labels in combined_dataset:\n",
    "    X_list.append(images.numpy())\n",
    "    y_list.append(labels.numpy())\n",
    "\n",
    "# Convert lists to numpy arrays\n",
    "X = np.array(X_list)\n",
    "X = X[..., np.newaxis]\n",
    "\n",
    "y = np.array(y_list)\n",
    "\n",
    "X.shape, y.shape"
   ]
  },
  {
   "cell_type": "code",
   "execution_count": 190,
   "id": "a6184ec7",
   "metadata": {},
   "outputs": [
    {
     "data": {
      "image/png": "[encoded data removed]",
      "text/plain": [
       "<Figure size 640x480 with 1 Axes>"
      ]
     },
     "metadata": {},
     "output_type": "display_data"
    }
   ],
   "source": [
    "plt.hist(y);"
   ]
  },
  {
   "cell_type": "code",
   "execution_count": 191,
   "id": "f769fddc",
   "metadata": {},
   "outputs": [],
   "source": [
    "from sklearn.model_selection import train_test_split"
   ]
  },
  {
   "cell_type": "code",
   "execution_count": 192,
   "id": "79d0dc17",
   "metadata": {},
   "outputs": [],
   "source": [
    "X_train, X_test, y_train, y_test = train_test_split(X, y, test_size=0.2, random_state=42)"
   ]
  },
  {
   "cell_type": "code",
   "execution_count": 193,
   "id": "96547ce5",
   "metadata": {},
   "outputs": [
    {
     "name": "stdout",
     "output_type": "stream",
     "text": [
      "Epoch 1/15\n",
      "47/47 [==============================] - 15s 284ms/step - loss: 10.1504 - accuracy: 0.8365 - precision_4: 0.5635 - recall_2: 0.5145 - val_loss: 0.2054 - val_accuracy: 0.9144 - val_precision_4: 0.7237 - val_recall_2: 0.8333\n",
      "Epoch 2/15\n",
      "47/47 [==============================] - 12s 264ms/step - loss: 0.3471 - accuracy: 0.9109 - precision_4: 0.7871 - recall_2: 0.7101 - val_loss: 0.2693 - val_accuracy: 0.9037 - val_precision_4: 0.6875 - val_recall_2: 0.8333\n",
      "Epoch 3/15\n",
      "47/47 [==============================] - 14s 290ms/step - loss: 0.2056 - accuracy: 0.9336 - precision_4: 0.8020 - recall_2: 0.8514 - val_loss: 0.2901 - val_accuracy: 0.9011 - val_precision_4: 0.9677 - val_recall_2: 0.4545\n",
      "Epoch 4/15\n",
      "47/47 [==============================] - 14s 295ms/step - loss: 0.0780 - accuracy: 0.9792 - precision_4: 0.9455 - recall_2: 0.9420 - val_loss: 0.0604 - val_accuracy: 0.9893 - val_precision_4: 0.9844 - val_recall_2: 0.9545\n",
      "Epoch 5/15\n",
      "47/47 [==============================] - 14s 301ms/step - loss: 0.0274 - accuracy: 0.9926 - precision_4: 0.9926 - recall_2: 0.9674 - val_loss: 0.1216 - val_accuracy: 0.9439 - val_precision_4: 0.7711 - val_recall_2: 0.9697\n",
      "Epoch 6/15\n",
      "47/47 [==============================] - 14s 304ms/step - loss: 0.0328 - accuracy: 0.9879 - precision_4: 0.9510 - recall_2: 0.9855 - val_loss: 0.0573 - val_accuracy: 0.9893 - val_precision_4: 0.9844 - val_recall_2: 0.9545\n",
      "Epoch 7/15\n",
      "47/47 [==============================] - 14s 305ms/step - loss: 0.0228 - accuracy: 0.9913 - precision_4: 0.9782 - recall_2: 0.9746 - val_loss: 0.1325 - val_accuracy: 0.9492 - val_precision_4: 0.7975 - val_recall_2: 0.9545\n",
      "Epoch 8/15\n",
      "47/47 [==============================] - 14s 305ms/step - loss: 0.0503 - accuracy: 0.9873 - precision_4: 0.9707 - recall_2: 0.9601 - val_loss: 0.1232 - val_accuracy: 0.9813 - val_precision_4: 0.9538 - val_recall_2: 0.9394\n",
      "Epoch 9/15\n",
      "47/47 [==============================] - 14s 302ms/step - loss: 0.0347 - accuracy: 0.9899 - precision_4: 0.9815 - recall_2: 0.9638 - val_loss: 0.1494 - val_accuracy: 0.9866 - val_precision_4: 1.0000 - val_recall_2: 0.9242\n",
      "Epoch 10/15\n",
      "47/47 [==============================] - 14s 302ms/step - loss: 0.0282 - accuracy: 0.9913 - precision_4: 0.9852 - recall_2: 0.9674 - val_loss: 0.2169 - val_accuracy: 0.9759 - val_precision_4: 1.0000 - val_recall_2: 0.8636\n",
      "Epoch 11/15\n",
      "47/47 [==============================] - 14s 309ms/step - loss: 0.0314 - accuracy: 0.9926 - precision_4: 0.9853 - recall_2: 0.9746 - val_loss: 0.1060 - val_accuracy: 0.9786 - val_precision_4: 0.9394 - val_recall_2: 0.9394\n",
      "Epoch 12/15\n",
      "47/47 [==============================] - 15s 310ms/step - loss: 0.0253 - accuracy: 0.9933 - precision_4: 0.9784 - recall_2: 0.9855 - val_loss: 0.1121 - val_accuracy: 0.9813 - val_precision_4: 0.9683 - val_recall_2: 0.9242\n",
      "Epoch 13/15\n",
      "47/47 [==============================] - 15s 311ms/step - loss: 0.0166 - accuracy: 0.9960 - precision_4: 0.9963 - recall_2: 0.9819 - val_loss: 0.0795 - val_accuracy: 0.9813 - val_precision_4: 0.9403 - val_recall_2: 0.9545\n",
      "Epoch 14/15\n",
      "47/47 [==============================] - 14s 304ms/step - loss: 0.0156 - accuracy: 0.9946 - precision_4: 0.9891 - recall_2: 0.9819 - val_loss: 0.0932 - val_accuracy: 0.9893 - val_precision_4: 1.0000 - val_recall_2: 0.9394\n",
      "Epoch 15/15\n",
      "47/47 [==============================] - 14s 308ms/step - loss: 0.0207 - accuracy: 0.9926 - precision_4: 0.9853 - recall_2: 0.9746 - val_loss: 0.0914 - val_accuracy: 0.9813 - val_precision_4: 0.9275 - val_recall_2: 0.9697\n"
     ]
    },
    {
     "data": {
      "text/plain": [
       "<keras.callbacks.History at 0x1e606e73e90>"
      ]
     },
     "execution_count": 193,
     "metadata": {},
     "output_type": "execute_result"
    }
   ],
   "source": [
    "from keras.models import Sequential\n",
    "from keras.layers import Conv2D, MaxPooling2D, Flatten, Dense, GlobalMaxPooling2D\n",
    "from keras.datasets import mnist\n",
    "from keras.utils import to_categorical\n",
    "from tensorflow.keras import metrics\n",
    "\n",
    "\n",
    "# Create a CNN model\n",
    "model = Sequential()\n",
    "\n",
    "# Add a convolution layer\n",
    "model.add(Conv2D(64, kernel_size=3, activation='relu', input_shape=(76, 76, 3)))\n",
    "\n",
    "# Add a max pooling layer\n",
    "model.add(MaxPooling2D(pool_size=(2, 2)))\n",
    "\n",
    "# Add another convolution layer\n",
    "model.add(Conv2D(64, kernel_size=3, activation='relu'))\n",
    "\n",
    "# Add another max pooling layer\n",
    "model.add(MaxPooling2D(pool_size=(2, 2)))\n",
    "\n",
    "# Flatten the tensor output from the previous layer\n",
    "model.add(Flatten())\n",
    "# Replace the Flatten layer with GlobalMaxPooling2D\n",
    "#model.add(GlobalMaxPooling2D())\n",
    "\n",
    "# Add a dense layer\n",
    "model.add(Dense(64, activation='relu'))\n",
    "\n",
    "# Add output layer\n",
    "model.add(Dense(1, activation='sigmoid'))\n",
    "\n",
    "# Compile the model\n",
    "model.compile(\n",
    "    optimizer='adam', \n",
    "    loss='binary_crossentropy', \n",
    "    metrics=[\n",
    "        'accuracy', \n",
    "        tf.keras.metrics.Precision(),\n",
    "        tf.keras.metrics.Recall()    \n",
    "    ]\n",
    ")\n",
    "\n",
    "# Train the model\n",
    "model.fit(X_train, y_train, validation_data=(X_test, y_test), epochs=15)"
   ]
  },
  {
   "cell_type": "code",
   "execution_count": 194,
   "id": "af9517e0",
   "metadata": {},
   "outputs": [
    {
     "name": "stdout",
     "output_type": "stream",
     "text": [
      "Model: \"sequential_18\"\n",
      "_________________________________________________________________\n",
      " Layer (type)                Output Shape              Param #   \n",
      "=================================================================\n",
      " conv2d_36 (Conv2D)          (None, 74, 74, 64)        1792      \n",
      "                                                                 \n",
      " max_pooling2d_36 (MaxPoolin  (None, 37, 37, 64)       0         \n",
      " g2D)                                                            \n",
      "                                                                 \n",
      " conv2d_37 (Conv2D)          (None, 35, 35, 64)        36928     \n",
      "                                                                 \n",
      " max_pooling2d_37 (MaxPoolin  (None, 17, 17, 64)       0         \n",
      " g2D)                                                            \n",
      "                                                                 \n",
      " flatten_18 (Flatten)        (None, 18496)             0         \n",
      "                                                                 \n",
      " dense_36 (Dense)            (None, 64)                1183808   \n",
      "                                                                 \n",
      " dense_37 (Dense)            (None, 1)                 65        \n",
      "                                                                 \n",
      "=================================================================\n",
      "Total params: 1,222,593\n",
      "Trainable params: 1,222,593\n",
      "Non-trainable params: 0\n",
      "_________________________________________________________________\n"
     ]
    }
   ],
   "source": [
    "model.summary()"
   ]
  },
  {
   "cell_type": "code",
   "execution_count": 195,
   "id": "3ea59c5f",
   "metadata": {},
   "outputs": [
    {
     "name": "stdout",
     "output_type": "stream",
     "text": [
      "12/12 - 1s - loss: 0.0914 - accuracy: 0.9813 - precision_4: 0.9275 - recall_2: 0.9697 - 852ms/epoch - 71ms/step\n"
     ]
    },
    {
     "ename": "ValueError",
     "evalue": "too many values to unpack (expected 2)",
     "output_type": "error",
     "traceback": [
      "\u001b[1;31m---------------------------------------------------------------------------\u001b[0m",
      "\u001b[1;31mValueError\u001b[0m                                Traceback (most recent call last)",
      "Cell \u001b[1;32mIn[195], line 1\u001b[0m\n\u001b[1;32m----> 1\u001b[0m test_loss, test_acc \u001b[38;5;241m=\u001b[39m model\u001b[38;5;241m.\u001b[39mevaluate(X_test, y_test, verbose\u001b[38;5;241m=\u001b[39m\u001b[38;5;241m2\u001b[39m)\n",
      "\u001b[1;31mValueError\u001b[0m: too many values to unpack (expected 2)"
     ]
    }
   ],
   "source": [
    "test_loss, test_acc = model.evaluate(X_test, y_test, verbose=2)"
   ]
  },
  {
   "cell_type": "code",
   "execution_count": null,
   "id": "9cd750c2",
   "metadata": {},
   "outputs": [],
   "source": [
    "y_pred = model.predict(X_test)\n",
    "y_pred.shape"
   ]
  },
  {
   "cell_type": "code",
   "execution_count": null,
   "id": "f214250e",
   "metadata": {},
   "outputs": [],
   "source": [
    "import matplotlib.pyplot as plt\n",
    "\n",
    "i = 12\n",
    "\n",
    "plt.imshow(X_test[i][:,:,:,0])\n",
    "plt.show()\n",
    "\n",
    "print(y_test[i], y_pred[i])"
   ]
  },
  {
   "cell_type": "code",
   "execution_count": null,
   "id": "16afd638",
   "metadata": {},
   "outputs": [],
   "source": [
    "model.save('models/model_webcam_1_v1.h5')"
   ]
  },
  {
   "cell_type": "code",
   "execution_count": null,
   "id": "b64a9dda",
   "metadata": {},
   "outputs": [],
   "source": [
    "from tensorflow.keras.models import load_model\n",
    "\n",
    "loaded_model = load_model('models/model_webcam_1_v1.h5')"
   ]
  },
  {
   "cell_type": "code",
   "execution_count": null,
   "id": "839db342",
   "metadata": {},
   "outputs": [],
   "source": []
  }
 ],
 "metadata": {
  "kernelspec": {
   "display_name": "Python 3 (ipykernel)",
   "language": "python",
   "name": "python3"
  },
  "language_info": {
   "codemirror_mode": {
    "name": "ipython",
    "version": 3
   },
   "file_extension": ".py",
   "mimetype": "text/x-python",
   "name": "python",
   "nbconvert_exporter": "python",
   "pygments_lexer": "ipython3",
   "version": "3.11.3"
  }
 },
 "nbformat": 4,
 "nbformat_minor": 5
}
